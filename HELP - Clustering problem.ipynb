{
 "cells": [
  {
   "cell_type": "markdown",
   "metadata": {},
   "source": [
    "# HELP International NGO :  Clustering analysis\n",
    "#### By Sai Sasanka\n",
    "\n",
    "## Objectives\n",
    " - to categorise the countries using some socio-economic and health factors that determine the overall development of the country. \n",
    " - need to suggest the countries which the CEO needs to focus on the most"
   ]
  },
  {
   "cell_type": "markdown",
   "metadata": {},
   "source": [
    " ### Methodology\n",
    " \n",
    " - convert percentages to absolute values\n",
    " - scale and identify principal components\n",
    " - remove outliers\n",
    " - perform clustering and identify the ideal number of clusters\n",
    " - compare the clusters and identify the clusters in which the countries are in dire need of help"
   ]
  },
  {
   "cell_type": "code",
   "execution_count": 172,
   "metadata": {},
   "outputs": [],
   "source": [
    "# importing the required libraries\n",
    "\n",
    "import matplotlib.pyplot as plt\n",
    "import seaborn as sns\n",
    "import pandas as pd\n",
    "import numpy as np\n",
    "\n",
    "# for scaling\n",
    "from sklearn.preprocessing import StandardScaler\n",
    "\n",
    "# for dimensionality reduction\n",
    "from sklearn.decomposition import PCA\n",
    "\n",
    "# for clustering\n",
    "from sklearn.metrics import silhouette_score\n",
    "from sklearn.cluster import KMeans"
   ]
  },
  {
   "cell_type": "code",
   "execution_count": 173,
   "metadata": {},
   "outputs": [],
   "source": [
    "# setting a few display options\n",
    "\n",
    "pd.set_option(\"display.max_rows\", None)\n",
    "\n",
    "# using these settings as the current jupyter theme is a dark theme\n",
    "plt.rcParams.update({\n",
    "    \"text.color\": \"black\",\n",
    "    \"axes.facecolor\": \"white\",\n",
    "    \"axes.edgecolor\": \"white\",\n",
    "    \"axes.labelcolor\": \"white\",\n",
    "    \"xtick.color\": \"white\",\n",
    "    \"ytick.color\": \"white\",\n",
    "})"
   ]
  },
  {
   "cell_type": "markdown",
   "metadata": {},
   "source": [
    "## Data Understanding"
   ]
  },
  {
   "cell_type": "code",
   "execution_count": 174,
   "metadata": {},
   "outputs": [
    {
     "data": {
      "text/html": [
       "<div>\n",
       "<style scoped>\n",
       "    .dataframe tbody tr th:only-of-type {\n",
       "        vertical-align: middle;\n",
       "    }\n",
       "\n",
       "    .dataframe tbody tr th {\n",
       "        vertical-align: top;\n",
       "    }\n",
       "\n",
       "    .dataframe thead th {\n",
       "        text-align: right;\n",
       "    }\n",
       "</style>\n",
       "<table border=\"1\" class=\"dataframe\">\n",
       "  <thead>\n",
       "    <tr style=\"text-align: right;\">\n",
       "      <th></th>\n",
       "      <th>country</th>\n",
       "      <th>child_mort</th>\n",
       "      <th>exports</th>\n",
       "      <th>health</th>\n",
       "      <th>imports</th>\n",
       "      <th>income</th>\n",
       "      <th>inflation</th>\n",
       "      <th>life_expec</th>\n",
       "      <th>total_fer</th>\n",
       "      <th>gdpp</th>\n",
       "    </tr>\n",
       "  </thead>\n",
       "  <tbody>\n",
       "    <tr>\n",
       "      <th>0</th>\n",
       "      <td>Afghanistan</td>\n",
       "      <td>90.2</td>\n",
       "      <td>10.0</td>\n",
       "      <td>7.58</td>\n",
       "      <td>44.9</td>\n",
       "      <td>1610</td>\n",
       "      <td>9.44</td>\n",
       "      <td>56.2</td>\n",
       "      <td>5.82</td>\n",
       "      <td>553</td>\n",
       "    </tr>\n",
       "    <tr>\n",
       "      <th>1</th>\n",
       "      <td>Albania</td>\n",
       "      <td>16.6</td>\n",
       "      <td>28.0</td>\n",
       "      <td>6.55</td>\n",
       "      <td>48.6</td>\n",
       "      <td>9930</td>\n",
       "      <td>4.49</td>\n",
       "      <td>76.3</td>\n",
       "      <td>1.65</td>\n",
       "      <td>4090</td>\n",
       "    </tr>\n",
       "    <tr>\n",
       "      <th>2</th>\n",
       "      <td>Algeria</td>\n",
       "      <td>27.3</td>\n",
       "      <td>38.4</td>\n",
       "      <td>4.17</td>\n",
       "      <td>31.4</td>\n",
       "      <td>12900</td>\n",
       "      <td>16.10</td>\n",
       "      <td>76.5</td>\n",
       "      <td>2.89</td>\n",
       "      <td>4460</td>\n",
       "    </tr>\n",
       "    <tr>\n",
       "      <th>3</th>\n",
       "      <td>Angola</td>\n",
       "      <td>119.0</td>\n",
       "      <td>62.3</td>\n",
       "      <td>2.85</td>\n",
       "      <td>42.9</td>\n",
       "      <td>5900</td>\n",
       "      <td>22.40</td>\n",
       "      <td>60.1</td>\n",
       "      <td>6.16</td>\n",
       "      <td>3530</td>\n",
       "    </tr>\n",
       "    <tr>\n",
       "      <th>4</th>\n",
       "      <td>Antigua and Barbuda</td>\n",
       "      <td>10.3</td>\n",
       "      <td>45.5</td>\n",
       "      <td>6.03</td>\n",
       "      <td>58.9</td>\n",
       "      <td>19100</td>\n",
       "      <td>1.44</td>\n",
       "      <td>76.8</td>\n",
       "      <td>2.13</td>\n",
       "      <td>12200</td>\n",
       "    </tr>\n",
       "  </tbody>\n",
       "</table>\n",
       "</div>"
      ],
      "text/plain": [
       "               country  child_mort  exports  health  imports  income  \\\n",
       "0          Afghanistan        90.2     10.0    7.58     44.9    1610   \n",
       "1              Albania        16.6     28.0    6.55     48.6    9930   \n",
       "2              Algeria        27.3     38.4    4.17     31.4   12900   \n",
       "3               Angola       119.0     62.3    2.85     42.9    5900   \n",
       "4  Antigua and Barbuda        10.3     45.5    6.03     58.9   19100   \n",
       "\n",
       "   inflation  life_expec  total_fer   gdpp  \n",
       "0       9.44        56.2       5.82    553  \n",
       "1       4.49        76.3       1.65   4090  \n",
       "2      16.10        76.5       2.89   4460  \n",
       "3      22.40        60.1       6.16   3530  \n",
       "4       1.44        76.8       2.13  12200  "
      ]
     },
     "execution_count": 174,
     "metadata": {},
     "output_type": "execute_result"
    }
   ],
   "source": [
    "# reading the dataset\n",
    "\n",
    "df = pd.read_csv(\"Country-data.csv\")\n",
    "\n",
    "df.head()"
   ]
  },
  {
   "cell_type": "code",
   "execution_count": 175,
   "metadata": {},
   "outputs": [
    {
     "data": {
      "text/plain": [
       "(167, 10)"
      ]
     },
     "execution_count": 175,
     "metadata": {},
     "output_type": "execute_result"
    }
   ],
   "source": [
    "df.shape"
   ]
  },
  {
   "cell_type": "code",
   "execution_count": 176,
   "metadata": {},
   "outputs": [
    {
     "name": "stdout",
     "output_type": "stream",
     "text": [
      "<class 'pandas.core.frame.DataFrame'>\n",
      "RangeIndex: 167 entries, 0 to 166\n",
      "Data columns (total 10 columns):\n",
      " #   Column      Non-Null Count  Dtype  \n",
      "---  ------      --------------  -----  \n",
      " 0   country     167 non-null    object \n",
      " 1   child_mort  167 non-null    float64\n",
      " 2   exports     167 non-null    float64\n",
      " 3   health      167 non-null    float64\n",
      " 4   imports     167 non-null    float64\n",
      " 5   income      167 non-null    int64  \n",
      " 6   inflation   167 non-null    float64\n",
      " 7   life_expec  167 non-null    float64\n",
      " 8   total_fer   167 non-null    float64\n",
      " 9   gdpp        167 non-null    int64  \n",
      "dtypes: float64(7), int64(2), object(1)\n",
      "memory usage: 13.2+ KB\n"
     ]
    }
   ],
   "source": [
    "# Looking at the column dtypes and missing values\n",
    "\n",
    "df.info()"
   ]
  },
  {
   "cell_type": "markdown",
   "metadata": {},
   "source": [
    "there seem to be no missing values in the dataset"
   ]
  },
  {
   "cell_type": "markdown",
   "metadata": {},
   "source": [
    "### Data Conversion\n",
    "\n",
    "* Exports, Imports and Health columns in the dataset are in percentages. Given the GDP of the countries, if these columns are represented in percentages it wouldn't give a clear picture of the state of these countries.\n",
    "* For Example, two countries can have the same percentage of imports, exports and health but might vary in the GDP.\n",
    "* So to give a clear picture, the values in those columns should be converted to absolute values"
   ]
  },
  {
   "cell_type": "code",
   "execution_count": 177,
   "metadata": {},
   "outputs": [
    {
     "data": {
      "text/html": [
       "<div>\n",
       "<style scoped>\n",
       "    .dataframe tbody tr th:only-of-type {\n",
       "        vertical-align: middle;\n",
       "    }\n",
       "\n",
       "    .dataframe tbody tr th {\n",
       "        vertical-align: top;\n",
       "    }\n",
       "\n",
       "    .dataframe thead th {\n",
       "        text-align: right;\n",
       "    }\n",
       "</style>\n",
       "<table border=\"1\" class=\"dataframe\">\n",
       "  <thead>\n",
       "    <tr style=\"text-align: right;\">\n",
       "      <th></th>\n",
       "      <th>country</th>\n",
       "      <th>child_mort</th>\n",
       "      <th>exports</th>\n",
       "      <th>health</th>\n",
       "      <th>imports</th>\n",
       "      <th>income</th>\n",
       "      <th>inflation</th>\n",
       "      <th>life_expec</th>\n",
       "      <th>total_fer</th>\n",
       "      <th>gdpp</th>\n",
       "    </tr>\n",
       "  </thead>\n",
       "  <tbody>\n",
       "    <tr>\n",
       "      <th>0</th>\n",
       "      <td>Afghanistan</td>\n",
       "      <td>90.2</td>\n",
       "      <td>55.30</td>\n",
       "      <td>41.9174</td>\n",
       "      <td>248.297</td>\n",
       "      <td>1610</td>\n",
       "      <td>9.44</td>\n",
       "      <td>56.2</td>\n",
       "      <td>5.82</td>\n",
       "      <td>553</td>\n",
       "    </tr>\n",
       "    <tr>\n",
       "      <th>1</th>\n",
       "      <td>Albania</td>\n",
       "      <td>16.6</td>\n",
       "      <td>1145.20</td>\n",
       "      <td>267.8950</td>\n",
       "      <td>1987.740</td>\n",
       "      <td>9930</td>\n",
       "      <td>4.49</td>\n",
       "      <td>76.3</td>\n",
       "      <td>1.65</td>\n",
       "      <td>4090</td>\n",
       "    </tr>\n",
       "    <tr>\n",
       "      <th>2</th>\n",
       "      <td>Algeria</td>\n",
       "      <td>27.3</td>\n",
       "      <td>1712.64</td>\n",
       "      <td>185.9820</td>\n",
       "      <td>1400.440</td>\n",
       "      <td>12900</td>\n",
       "      <td>16.10</td>\n",
       "      <td>76.5</td>\n",
       "      <td>2.89</td>\n",
       "      <td>4460</td>\n",
       "    </tr>\n",
       "    <tr>\n",
       "      <th>3</th>\n",
       "      <td>Angola</td>\n",
       "      <td>119.0</td>\n",
       "      <td>2199.19</td>\n",
       "      <td>100.6050</td>\n",
       "      <td>1514.370</td>\n",
       "      <td>5900</td>\n",
       "      <td>22.40</td>\n",
       "      <td>60.1</td>\n",
       "      <td>6.16</td>\n",
       "      <td>3530</td>\n",
       "    </tr>\n",
       "    <tr>\n",
       "      <th>4</th>\n",
       "      <td>Antigua and Barbuda</td>\n",
       "      <td>10.3</td>\n",
       "      <td>5551.00</td>\n",
       "      <td>735.6600</td>\n",
       "      <td>7185.800</td>\n",
       "      <td>19100</td>\n",
       "      <td>1.44</td>\n",
       "      <td>76.8</td>\n",
       "      <td>2.13</td>\n",
       "      <td>12200</td>\n",
       "    </tr>\n",
       "  </tbody>\n",
       "</table>\n",
       "</div>"
      ],
      "text/plain": [
       "               country  child_mort  exports    health   imports  income  \\\n",
       "0          Afghanistan        90.2    55.30   41.9174   248.297    1610   \n",
       "1              Albania        16.6  1145.20  267.8950  1987.740    9930   \n",
       "2              Algeria        27.3  1712.64  185.9820  1400.440   12900   \n",
       "3               Angola       119.0  2199.19  100.6050  1514.370    5900   \n",
       "4  Antigua and Barbuda        10.3  5551.00  735.6600  7185.800   19100   \n",
       "\n",
       "   inflation  life_expec  total_fer   gdpp  \n",
       "0       9.44        56.2       5.82    553  \n",
       "1       4.49        76.3       1.65   4090  \n",
       "2      16.10        76.5       2.89   4460  \n",
       "3      22.40        60.1       6.16   3530  \n",
       "4       1.44        76.8       2.13  12200  "
      ]
     },
     "execution_count": 177,
     "metadata": {},
     "output_type": "execute_result"
    }
   ],
   "source": [
    "# Converting the said columns to absolute values\n",
    "\n",
    "df['exports'] = df.exports * df.gdpp / 100\n",
    "df['imports'] = df.imports * df.gdpp / 100\n",
    "df['health'] = df.health * df.gdpp / 100\n",
    "\n",
    "df.head()"
   ]
  },
  {
   "cell_type": "markdown",
   "metadata": {},
   "source": [
    "Now, the said columns contain the absolute values instead of percentages"
   ]
  },
  {
   "cell_type": "markdown",
   "metadata": {},
   "source": [
    "## Exploratory Data Analysis"
   ]
  },
  {
   "cell_type": "code",
   "execution_count": 178,
   "metadata": {},
   "outputs": [
    {
     "data": {
      "text/html": [
       "<div>\n",
       "<style scoped>\n",
       "    .dataframe tbody tr th:only-of-type {\n",
       "        vertical-align: middle;\n",
       "    }\n",
       "\n",
       "    .dataframe tbody tr th {\n",
       "        vertical-align: top;\n",
       "    }\n",
       "\n",
       "    .dataframe thead th {\n",
       "        text-align: right;\n",
       "    }\n",
       "</style>\n",
       "<table border=\"1\" class=\"dataframe\">\n",
       "  <thead>\n",
       "    <tr style=\"text-align: right;\">\n",
       "      <th></th>\n",
       "      <th>child_mort</th>\n",
       "      <th>exports</th>\n",
       "      <th>health</th>\n",
       "      <th>imports</th>\n",
       "      <th>income</th>\n",
       "      <th>inflation</th>\n",
       "      <th>life_expec</th>\n",
       "      <th>total_fer</th>\n",
       "      <th>gdpp</th>\n",
       "    </tr>\n",
       "  </thead>\n",
       "  <tbody>\n",
       "    <tr>\n",
       "      <th>count</th>\n",
       "      <td>167.000000</td>\n",
       "      <td>167.000000</td>\n",
       "      <td>167.000000</td>\n",
       "      <td>167.000000</td>\n",
       "      <td>167.000000</td>\n",
       "      <td>167.000000</td>\n",
       "      <td>167.000000</td>\n",
       "      <td>167.000000</td>\n",
       "      <td>167.000000</td>\n",
       "    </tr>\n",
       "    <tr>\n",
       "      <th>mean</th>\n",
       "      <td>38.270060</td>\n",
       "      <td>7420.618847</td>\n",
       "      <td>1056.733204</td>\n",
       "      <td>6588.352108</td>\n",
       "      <td>17144.688623</td>\n",
       "      <td>7.781832</td>\n",
       "      <td>70.555689</td>\n",
       "      <td>2.947964</td>\n",
       "      <td>12964.155689</td>\n",
       "    </tr>\n",
       "    <tr>\n",
       "      <th>std</th>\n",
       "      <td>40.328931</td>\n",
       "      <td>17973.885795</td>\n",
       "      <td>1801.408906</td>\n",
       "      <td>14710.810418</td>\n",
       "      <td>19278.067698</td>\n",
       "      <td>10.570704</td>\n",
       "      <td>8.893172</td>\n",
       "      <td>1.513848</td>\n",
       "      <td>18328.704809</td>\n",
       "    </tr>\n",
       "    <tr>\n",
       "      <th>min</th>\n",
       "      <td>2.600000</td>\n",
       "      <td>1.076920</td>\n",
       "      <td>12.821200</td>\n",
       "      <td>0.651092</td>\n",
       "      <td>609.000000</td>\n",
       "      <td>-4.210000</td>\n",
       "      <td>32.100000</td>\n",
       "      <td>1.150000</td>\n",
       "      <td>231.000000</td>\n",
       "    </tr>\n",
       "    <tr>\n",
       "      <th>25%</th>\n",
       "      <td>8.250000</td>\n",
       "      <td>447.140000</td>\n",
       "      <td>78.535500</td>\n",
       "      <td>640.215000</td>\n",
       "      <td>3355.000000</td>\n",
       "      <td>1.810000</td>\n",
       "      <td>65.300000</td>\n",
       "      <td>1.795000</td>\n",
       "      <td>1330.000000</td>\n",
       "    </tr>\n",
       "    <tr>\n",
       "      <th>50%</th>\n",
       "      <td>19.300000</td>\n",
       "      <td>1777.440000</td>\n",
       "      <td>321.886000</td>\n",
       "      <td>2045.580000</td>\n",
       "      <td>9960.000000</td>\n",
       "      <td>5.390000</td>\n",
       "      <td>73.100000</td>\n",
       "      <td>2.410000</td>\n",
       "      <td>4660.000000</td>\n",
       "    </tr>\n",
       "    <tr>\n",
       "      <th>75%</th>\n",
       "      <td>62.100000</td>\n",
       "      <td>7278.000000</td>\n",
       "      <td>976.940000</td>\n",
       "      <td>7719.600000</td>\n",
       "      <td>22800.000000</td>\n",
       "      <td>10.750000</td>\n",
       "      <td>76.800000</td>\n",
       "      <td>3.880000</td>\n",
       "      <td>14050.000000</td>\n",
       "    </tr>\n",
       "    <tr>\n",
       "      <th>max</th>\n",
       "      <td>208.000000</td>\n",
       "      <td>183750.000000</td>\n",
       "      <td>8663.600000</td>\n",
       "      <td>149100.000000</td>\n",
       "      <td>125000.000000</td>\n",
       "      <td>104.000000</td>\n",
       "      <td>82.800000</td>\n",
       "      <td>7.490000</td>\n",
       "      <td>105000.000000</td>\n",
       "    </tr>\n",
       "  </tbody>\n",
       "</table>\n",
       "</div>"
      ],
      "text/plain": [
       "       child_mort        exports       health        imports         income  \\\n",
       "count  167.000000     167.000000   167.000000     167.000000     167.000000   \n",
       "mean    38.270060    7420.618847  1056.733204    6588.352108   17144.688623   \n",
       "std     40.328931   17973.885795  1801.408906   14710.810418   19278.067698   \n",
       "min      2.600000       1.076920    12.821200       0.651092     609.000000   \n",
       "25%      8.250000     447.140000    78.535500     640.215000    3355.000000   \n",
       "50%     19.300000    1777.440000   321.886000    2045.580000    9960.000000   \n",
       "75%     62.100000    7278.000000   976.940000    7719.600000   22800.000000   \n",
       "max    208.000000  183750.000000  8663.600000  149100.000000  125000.000000   \n",
       "\n",
       "        inflation  life_expec   total_fer           gdpp  \n",
       "count  167.000000  167.000000  167.000000     167.000000  \n",
       "mean     7.781832   70.555689    2.947964   12964.155689  \n",
       "std     10.570704    8.893172    1.513848   18328.704809  \n",
       "min     -4.210000   32.100000    1.150000     231.000000  \n",
       "25%      1.810000   65.300000    1.795000    1330.000000  \n",
       "50%      5.390000   73.100000    2.410000    4660.000000  \n",
       "75%     10.750000   76.800000    3.880000   14050.000000  \n",
       "max    104.000000   82.800000    7.490000  105000.000000  "
      ]
     },
     "execution_count": 178,
     "metadata": {},
     "output_type": "execute_result"
    }
   ],
   "source": [
    "# Describing the dataset\n",
    "\n",
    "df.describe()"
   ]
  },
  {
   "cell_type": "markdown",
   "metadata": {},
   "source": [
    "Since we have to reduce dimensions, we can apply PCA. But since PCA would work better if the data is multicollinear we have to check the collinearity"
   ]
  },
  {
   "cell_type": "code",
   "execution_count": 179,
   "metadata": {},
   "outputs": [
    {
     "data": {
      "image/png": "[encoded data removed]",
      "text/plain": [
       "<Figure size 1296x1080 with 2 Axes>"
      ]
     },
     "metadata": {
      "needs_background": "dark"
     },
     "output_type": "display_data"
    }
   ],
   "source": [
    "# Plotting the heatmap\n",
    "\n",
    "plt.figure(figsize=(18, 15))\n",
    "sns.heatmap(df[df.columns[1:]].corr(), annot=True, cmap=\"RdYlGn\")\n",
    "plt.show()"
   ]
  },
  {
   "cell_type": "markdown",
   "metadata": {},
   "source": [
    "We can see that the data is multicollinear, therefore we could use PCA for dimensionality reduction"
   ]
  },
  {
   "cell_type": "markdown",
   "metadata": {},
   "source": [
    "### Scaling the data for applying PCA"
   ]
  },
  {
   "cell_type": "code",
   "execution_count": 180,
   "metadata": {},
   "outputs": [
    {
     "data": {
      "text/html": [
       "<div>\n",
       "<style scoped>\n",
       "    .dataframe tbody tr th:only-of-type {\n",
       "        vertical-align: middle;\n",
       "    }\n",
       "\n",
       "    .dataframe tbody tr th {\n",
       "        vertical-align: top;\n",
       "    }\n",
       "\n",
       "    .dataframe thead th {\n",
       "        text-align: right;\n",
       "    }\n",
       "</style>\n",
       "<table border=\"1\" class=\"dataframe\">\n",
       "  <thead>\n",
       "    <tr style=\"text-align: right;\">\n",
       "      <th></th>\n",
       "      <th>child_mort</th>\n",
       "      <th>exports</th>\n",
       "      <th>health</th>\n",
       "      <th>imports</th>\n",
       "      <th>income</th>\n",
       "      <th>inflation</th>\n",
       "      <th>life_expec</th>\n",
       "      <th>total_fer</th>\n",
       "      <th>gdpp</th>\n",
       "    </tr>\n",
       "  </thead>\n",
       "  <tbody>\n",
       "    <tr>\n",
       "      <th>0</th>\n",
       "      <td>1.291532</td>\n",
       "      <td>-0.411011</td>\n",
       "      <td>-0.565040</td>\n",
       "      <td>-0.432276</td>\n",
       "      <td>-0.808245</td>\n",
       "      <td>0.157336</td>\n",
       "      <td>-1.619092</td>\n",
       "      <td>1.902882</td>\n",
       "      <td>-0.679180</td>\n",
       "    </tr>\n",
       "    <tr>\n",
       "      <th>1</th>\n",
       "      <td>-0.538949</td>\n",
       "      <td>-0.350191</td>\n",
       "      <td>-0.439218</td>\n",
       "      <td>-0.313677</td>\n",
       "      <td>-0.375369</td>\n",
       "      <td>-0.312347</td>\n",
       "      <td>0.647866</td>\n",
       "      <td>-0.859973</td>\n",
       "      <td>-0.485623</td>\n",
       "    </tr>\n",
       "    <tr>\n",
       "      <th>2</th>\n",
       "      <td>-0.272833</td>\n",
       "      <td>-0.318526</td>\n",
       "      <td>-0.484826</td>\n",
       "      <td>-0.353720</td>\n",
       "      <td>-0.220844</td>\n",
       "      <td>0.789274</td>\n",
       "      <td>0.670423</td>\n",
       "      <td>-0.038404</td>\n",
       "      <td>-0.465376</td>\n",
       "    </tr>\n",
       "    <tr>\n",
       "      <th>3</th>\n",
       "      <td>2.007808</td>\n",
       "      <td>-0.291375</td>\n",
       "      <td>-0.532363</td>\n",
       "      <td>-0.345953</td>\n",
       "      <td>-0.585043</td>\n",
       "      <td>1.387054</td>\n",
       "      <td>-1.179234</td>\n",
       "      <td>2.128151</td>\n",
       "      <td>-0.516268</td>\n",
       "    </tr>\n",
       "    <tr>\n",
       "      <th>4</th>\n",
       "      <td>-0.695634</td>\n",
       "      <td>-0.104331</td>\n",
       "      <td>-0.178771</td>\n",
       "      <td>0.040735</td>\n",
       "      <td>0.101732</td>\n",
       "      <td>-0.601749</td>\n",
       "      <td>0.704258</td>\n",
       "      <td>-0.541946</td>\n",
       "      <td>-0.041817</td>\n",
       "    </tr>\n",
       "  </tbody>\n",
       "</table>\n",
       "</div>"
      ],
      "text/plain": [
       "   child_mort   exports    health   imports    income  inflation  life_expec  \\\n",
       "0    1.291532 -0.411011 -0.565040 -0.432276 -0.808245   0.157336   -1.619092   \n",
       "1   -0.538949 -0.350191 -0.439218 -0.313677 -0.375369  -0.312347    0.647866   \n",
       "2   -0.272833 -0.318526 -0.484826 -0.353720 -0.220844   0.789274    0.670423   \n",
       "3    2.007808 -0.291375 -0.532363 -0.345953 -0.585043   1.387054   -1.179234   \n",
       "4   -0.695634 -0.104331 -0.178771  0.040735  0.101732  -0.601749    0.704258   \n",
       "\n",
       "   total_fer      gdpp  \n",
       "0   1.902882 -0.679180  \n",
       "1  -0.859973 -0.485623  \n",
       "2  -0.038404 -0.465376  \n",
       "3   2.128151 -0.516268  \n",
       "4  -0.541946 -0.041817  "
      ]
     },
     "execution_count": 180,
     "metadata": {},
     "output_type": "execute_result"
    }
   ],
   "source": [
    "scaler = StandardScaler()\n",
    "\n",
    "scaled_data = scaler.fit_transform(df[df.columns[1:]])\n",
    "\n",
    "df_scaled = pd.DataFrame(scaled_data, columns=df.columns[1:])\n",
    "\n",
    "df_scaled.head()"
   ]
  },
  {
   "cell_type": "markdown",
   "metadata": {},
   "source": [
    "### Applying PCA for dimensionality reduction"
   ]
  },
  {
   "cell_type": "code",
   "execution_count": 181,
   "metadata": {},
   "outputs": [],
   "source": [
    "pca = PCA(random_state=71)\n",
    "pc = pca.fit(df_scaled)"
   ]
  },
  {
   "cell_type": "code",
   "execution_count": 182,
   "metadata": {},
   "outputs": [
    {
     "data": {
      "text/plain": [
       "array([[-0.31639186,  0.34288671,  0.358535  ,  0.34486492,  0.38004113,\n",
       "        -0.14308531,  0.34385651, -0.30284224,  0.39998795],\n",
       "       [ 0.47626735,  0.39731091,  0.1550529 ,  0.37078075,  0.12838448,\n",
       "         0.22126089, -0.36981973,  0.4597152 ,  0.2006241 ],\n",
       "       [-0.15001225, -0.03057367, -0.07570322, -0.07217386,  0.14576421,\n",
       "         0.94841868,  0.19675173, -0.07783431,  0.01033941],\n",
       "       [-0.14805195,  0.44942527, -0.59971228,  0.46179779, -0.15480592,\n",
       "        -0.00762798, -0.01839465, -0.21392805, -0.36477239],\n",
       "       [ 0.1019948 , -0.03853829, -0.49319984, -0.2527867 ,  0.79407469,\n",
       "        -0.13642345, -0.15404105, -0.02033568,  0.08750149],\n",
       "       [ 0.19658519, -0.03891112,  0.18069888, -0.01217988, -0.03814681,\n",
       "         0.10840284, -0.58600986, -0.75390075,  0.04538167],\n",
       "       [ 0.76126725, -0.01366973, -0.06461567,  0.02718244, -0.02311312,\n",
       "        -0.02207663,  0.58120846, -0.27314534, -0.04402264],\n",
       "       [ 0.00644411, -0.05526371,  0.43007213,  0.1311355 ,  0.3938113 ,\n",
       "        -0.00607016,  0.002966  ,  0.03429334, -0.79902242],\n",
       "       [-0.00495137, -0.71792388, -0.13034593,  0.66568664,  0.07901102,\n",
       "         0.01128137, -0.03159406,  0.02368185,  0.12846398]])"
      ]
     },
     "execution_count": 182,
     "metadata": {},
     "output_type": "execute_result"
    }
   ],
   "source": [
    "pc.components_"
   ]
  },
  {
   "cell_type": "code",
   "execution_count": 183,
   "metadata": {},
   "outputs": [
    {
     "data": {
      "text/html": [
       "<div>\n",
       "<style scoped>\n",
       "    .dataframe tbody tr th:only-of-type {\n",
       "        vertical-align: middle;\n",
       "    }\n",
       "\n",
       "    .dataframe tbody tr th {\n",
       "        vertical-align: top;\n",
       "    }\n",
       "\n",
       "    .dataframe thead th {\n",
       "        text-align: right;\n",
       "    }\n",
       "</style>\n",
       "<table border=\"1\" class=\"dataframe\">\n",
       "  <thead>\n",
       "    <tr style=\"text-align: right;\">\n",
       "      <th></th>\n",
       "      <th>PC1</th>\n",
       "      <th>PC2</th>\n",
       "      <th>PC3</th>\n",
       "      <th>PC4</th>\n",
       "      <th>PC5</th>\n",
       "      <th>PC6</th>\n",
       "      <th>PC7</th>\n",
       "      <th>PC8</th>\n",
       "      <th>PC9</th>\n",
       "    </tr>\n",
       "  </thead>\n",
       "  <tbody>\n",
       "    <tr>\n",
       "      <th>0</th>\n",
       "      <td>-0.316392</td>\n",
       "      <td>0.476267</td>\n",
       "      <td>-0.150012</td>\n",
       "      <td>-0.148052</td>\n",
       "      <td>0.101995</td>\n",
       "      <td>0.196585</td>\n",
       "      <td>0.761267</td>\n",
       "      <td>0.006444</td>\n",
       "      <td>-0.004951</td>\n",
       "    </tr>\n",
       "    <tr>\n",
       "      <th>1</th>\n",
       "      <td>0.342887</td>\n",
       "      <td>0.397311</td>\n",
       "      <td>-0.030574</td>\n",
       "      <td>0.449425</td>\n",
       "      <td>-0.038538</td>\n",
       "      <td>-0.038911</td>\n",
       "      <td>-0.013670</td>\n",
       "      <td>-0.055264</td>\n",
       "      <td>-0.717924</td>\n",
       "    </tr>\n",
       "    <tr>\n",
       "      <th>2</th>\n",
       "      <td>0.358535</td>\n",
       "      <td>0.155053</td>\n",
       "      <td>-0.075703</td>\n",
       "      <td>-0.599712</td>\n",
       "      <td>-0.493200</td>\n",
       "      <td>0.180699</td>\n",
       "      <td>-0.064616</td>\n",
       "      <td>0.430072</td>\n",
       "      <td>-0.130346</td>\n",
       "    </tr>\n",
       "    <tr>\n",
       "      <th>3</th>\n",
       "      <td>0.344865</td>\n",
       "      <td>0.370781</td>\n",
       "      <td>-0.072174</td>\n",
       "      <td>0.461798</td>\n",
       "      <td>-0.252787</td>\n",
       "      <td>-0.012180</td>\n",
       "      <td>0.027182</td>\n",
       "      <td>0.131135</td>\n",
       "      <td>0.665687</td>\n",
       "    </tr>\n",
       "    <tr>\n",
       "      <th>4</th>\n",
       "      <td>0.380041</td>\n",
       "      <td>0.128384</td>\n",
       "      <td>0.145764</td>\n",
       "      <td>-0.154806</td>\n",
       "      <td>0.794075</td>\n",
       "      <td>-0.038147</td>\n",
       "      <td>-0.023113</td>\n",
       "      <td>0.393811</td>\n",
       "      <td>0.079011</td>\n",
       "    </tr>\n",
       "    <tr>\n",
       "      <th>5</th>\n",
       "      <td>-0.143085</td>\n",
       "      <td>0.221261</td>\n",
       "      <td>0.948419</td>\n",
       "      <td>-0.007628</td>\n",
       "      <td>-0.136423</td>\n",
       "      <td>0.108403</td>\n",
       "      <td>-0.022077</td>\n",
       "      <td>-0.006070</td>\n",
       "      <td>0.011281</td>\n",
       "    </tr>\n",
       "    <tr>\n",
       "      <th>6</th>\n",
       "      <td>0.343857</td>\n",
       "      <td>-0.369820</td>\n",
       "      <td>0.196752</td>\n",
       "      <td>-0.018395</td>\n",
       "      <td>-0.154041</td>\n",
       "      <td>-0.586010</td>\n",
       "      <td>0.581208</td>\n",
       "      <td>0.002966</td>\n",
       "      <td>-0.031594</td>\n",
       "    </tr>\n",
       "    <tr>\n",
       "      <th>7</th>\n",
       "      <td>-0.302842</td>\n",
       "      <td>0.459715</td>\n",
       "      <td>-0.077834</td>\n",
       "      <td>-0.213928</td>\n",
       "      <td>-0.020336</td>\n",
       "      <td>-0.753901</td>\n",
       "      <td>-0.273145</td>\n",
       "      <td>0.034293</td>\n",
       "      <td>0.023682</td>\n",
       "    </tr>\n",
       "    <tr>\n",
       "      <th>8</th>\n",
       "      <td>0.399988</td>\n",
       "      <td>0.200624</td>\n",
       "      <td>0.010339</td>\n",
       "      <td>-0.364772</td>\n",
       "      <td>0.087501</td>\n",
       "      <td>0.045382</td>\n",
       "      <td>-0.044023</td>\n",
       "      <td>-0.799022</td>\n",
       "      <td>0.128464</td>\n",
       "    </tr>\n",
       "  </tbody>\n",
       "</table>\n",
       "</div>"
      ],
      "text/plain": [
       "        PC1       PC2       PC3       PC4       PC5       PC6       PC7  \\\n",
       "0 -0.316392  0.476267 -0.150012 -0.148052  0.101995  0.196585  0.761267   \n",
       "1  0.342887  0.397311 -0.030574  0.449425 -0.038538 -0.038911 -0.013670   \n",
       "2  0.358535  0.155053 -0.075703 -0.599712 -0.493200  0.180699 -0.064616   \n",
       "3  0.344865  0.370781 -0.072174  0.461798 -0.252787 -0.012180  0.027182   \n",
       "4  0.380041  0.128384  0.145764 -0.154806  0.794075 -0.038147 -0.023113   \n",
       "5 -0.143085  0.221261  0.948419 -0.007628 -0.136423  0.108403 -0.022077   \n",
       "6  0.343857 -0.369820  0.196752 -0.018395 -0.154041 -0.586010  0.581208   \n",
       "7 -0.302842  0.459715 -0.077834 -0.213928 -0.020336 -0.753901 -0.273145   \n",
       "8  0.399988  0.200624  0.010339 -0.364772  0.087501  0.045382 -0.044023   \n",
       "\n",
       "        PC8       PC9  \n",
       "0  0.006444 -0.004951  \n",
       "1 -0.055264 -0.717924  \n",
       "2  0.430072 -0.130346  \n",
       "3  0.131135  0.665687  \n",
       "4  0.393811  0.079011  \n",
       "5 -0.006070  0.011281  \n",
       "6  0.002966 -0.031594  \n",
       "7  0.034293  0.023682  \n",
       "8 -0.799022  0.128464  "
      ]
     },
     "execution_count": 183,
     "metadata": {},
     "output_type": "execute_result"
    }
   ],
   "source": [
    "# creating the principal components df\n",
    "\n",
    "components_df = pd.DataFrame({\"PC\" + str(x + 1) : y for x, y in enumerate(pca.components_)})\n",
    "\n",
    "components_df"
   ]
  },
  {
   "cell_type": "code",
   "execution_count": 184,
   "metadata": {},
   "outputs": [
    {
     "data": {
      "text/html": [
       "<div>\n",
       "<style scoped>\n",
       "    .dataframe tbody tr th:only-of-type {\n",
       "        vertical-align: middle;\n",
       "    }\n",
       "\n",
       "    .dataframe tbody tr th {\n",
       "        vertical-align: top;\n",
       "    }\n",
       "\n",
       "    .dataframe thead th {\n",
       "        text-align: right;\n",
       "    }\n",
       "</style>\n",
       "<table border=\"1\" class=\"dataframe\">\n",
       "  <thead>\n",
       "    <tr style=\"text-align: right;\">\n",
       "      <th></th>\n",
       "      <th>PC1</th>\n",
       "      <th>PC2</th>\n",
       "      <th>PC3</th>\n",
       "      <th>PC4</th>\n",
       "      <th>PC5</th>\n",
       "      <th>PC6</th>\n",
       "      <th>PC7</th>\n",
       "      <th>PC8</th>\n",
       "      <th>PC9</th>\n",
       "    </tr>\n",
       "  </thead>\n",
       "  <tbody>\n",
       "    <tr>\n",
       "      <th>child_mort</th>\n",
       "      <td>-0.316392</td>\n",
       "      <td>0.476267</td>\n",
       "      <td>-0.150012</td>\n",
       "      <td>-0.148052</td>\n",
       "      <td>0.101995</td>\n",
       "      <td>0.196585</td>\n",
       "      <td>0.761267</td>\n",
       "      <td>0.006444</td>\n",
       "      <td>-0.004951</td>\n",
       "    </tr>\n",
       "    <tr>\n",
       "      <th>exports</th>\n",
       "      <td>0.342887</td>\n",
       "      <td>0.397311</td>\n",
       "      <td>-0.030574</td>\n",
       "      <td>0.449425</td>\n",
       "      <td>-0.038538</td>\n",
       "      <td>-0.038911</td>\n",
       "      <td>-0.013670</td>\n",
       "      <td>-0.055264</td>\n",
       "      <td>-0.717924</td>\n",
       "    </tr>\n",
       "    <tr>\n",
       "      <th>health</th>\n",
       "      <td>0.358535</td>\n",
       "      <td>0.155053</td>\n",
       "      <td>-0.075703</td>\n",
       "      <td>-0.599712</td>\n",
       "      <td>-0.493200</td>\n",
       "      <td>0.180699</td>\n",
       "      <td>-0.064616</td>\n",
       "      <td>0.430072</td>\n",
       "      <td>-0.130346</td>\n",
       "    </tr>\n",
       "    <tr>\n",
       "      <th>imports</th>\n",
       "      <td>0.344865</td>\n",
       "      <td>0.370781</td>\n",
       "      <td>-0.072174</td>\n",
       "      <td>0.461798</td>\n",
       "      <td>-0.252787</td>\n",
       "      <td>-0.012180</td>\n",
       "      <td>0.027182</td>\n",
       "      <td>0.131135</td>\n",
       "      <td>0.665687</td>\n",
       "    </tr>\n",
       "    <tr>\n",
       "      <th>income</th>\n",
       "      <td>0.380041</td>\n",
       "      <td>0.128384</td>\n",
       "      <td>0.145764</td>\n",
       "      <td>-0.154806</td>\n",
       "      <td>0.794075</td>\n",
       "      <td>-0.038147</td>\n",
       "      <td>-0.023113</td>\n",
       "      <td>0.393811</td>\n",
       "      <td>0.079011</td>\n",
       "    </tr>\n",
       "    <tr>\n",
       "      <th>inflation</th>\n",
       "      <td>-0.143085</td>\n",
       "      <td>0.221261</td>\n",
       "      <td>0.948419</td>\n",
       "      <td>-0.007628</td>\n",
       "      <td>-0.136423</td>\n",
       "      <td>0.108403</td>\n",
       "      <td>-0.022077</td>\n",
       "      <td>-0.006070</td>\n",
       "      <td>0.011281</td>\n",
       "    </tr>\n",
       "    <tr>\n",
       "      <th>life_expec</th>\n",
       "      <td>0.343857</td>\n",
       "      <td>-0.369820</td>\n",
       "      <td>0.196752</td>\n",
       "      <td>-0.018395</td>\n",
       "      <td>-0.154041</td>\n",
       "      <td>-0.586010</td>\n",
       "      <td>0.581208</td>\n",
       "      <td>0.002966</td>\n",
       "      <td>-0.031594</td>\n",
       "    </tr>\n",
       "    <tr>\n",
       "      <th>total_fer</th>\n",
       "      <td>-0.302842</td>\n",
       "      <td>0.459715</td>\n",
       "      <td>-0.077834</td>\n",
       "      <td>-0.213928</td>\n",
       "      <td>-0.020336</td>\n",
       "      <td>-0.753901</td>\n",
       "      <td>-0.273145</td>\n",
       "      <td>0.034293</td>\n",
       "      <td>0.023682</td>\n",
       "    </tr>\n",
       "    <tr>\n",
       "      <th>gdpp</th>\n",
       "      <td>0.399988</td>\n",
       "      <td>0.200624</td>\n",
       "      <td>0.010339</td>\n",
       "      <td>-0.364772</td>\n",
       "      <td>0.087501</td>\n",
       "      <td>0.045382</td>\n",
       "      <td>-0.044023</td>\n",
       "      <td>-0.799022</td>\n",
       "      <td>0.128464</td>\n",
       "    </tr>\n",
       "  </tbody>\n",
       "</table>\n",
       "</div>"
      ],
      "text/plain": [
       "                 PC1       PC2       PC3       PC4       PC5       PC6  \\\n",
       "child_mort -0.316392  0.476267 -0.150012 -0.148052  0.101995  0.196585   \n",
       "exports     0.342887  0.397311 -0.030574  0.449425 -0.038538 -0.038911   \n",
       "health      0.358535  0.155053 -0.075703 -0.599712 -0.493200  0.180699   \n",
       "imports     0.344865  0.370781 -0.072174  0.461798 -0.252787 -0.012180   \n",
       "income      0.380041  0.128384  0.145764 -0.154806  0.794075 -0.038147   \n",
       "inflation  -0.143085  0.221261  0.948419 -0.007628 -0.136423  0.108403   \n",
       "life_expec  0.343857 -0.369820  0.196752 -0.018395 -0.154041 -0.586010   \n",
       "total_fer  -0.302842  0.459715 -0.077834 -0.213928 -0.020336 -0.753901   \n",
       "gdpp        0.399988  0.200624  0.010339 -0.364772  0.087501  0.045382   \n",
       "\n",
       "                 PC7       PC8       PC9  \n",
       "child_mort  0.761267  0.006444 -0.004951  \n",
       "exports    -0.013670 -0.055264 -0.717924  \n",
       "health     -0.064616  0.430072 -0.130346  \n",
       "imports     0.027182  0.131135  0.665687  \n",
       "income     -0.023113  0.393811  0.079011  \n",
       "inflation  -0.022077 -0.006070  0.011281  \n",
       "life_expec  0.581208  0.002966 -0.031594  \n",
       "total_fer  -0.273145  0.034293  0.023682  \n",
       "gdpp       -0.044023 -0.799022  0.128464  "
      ]
     },
     "execution_count": 184,
     "metadata": {},
     "output_type": "execute_result"
    }
   ],
   "source": [
    "components_df.index = df.columns[1:]\n",
    "\n",
    "components_df"
   ]
  },
  {
   "cell_type": "code",
   "execution_count": 185,
   "metadata": {},
   "outputs": [
    {
     "data": {
      "text/plain": [
       "array([5.89372984e-01, 1.84451685e-01, 9.91147170e-02, 6.07227801e-02,\n",
       "       3.02917253e-02, 2.45982702e-02, 9.39743701e-03, 1.55641971e-03,\n",
       "       4.93981394e-04])"
      ]
     },
     "execution_count": 185,
     "metadata": {},
     "output_type": "execute_result"
    }
   ],
   "source": [
    "# Looking at the explained variance of each PC\n",
    "\n",
    "pca.explained_variance_ratio_"
   ]
  },
  {
   "cell_type": "code",
   "execution_count": 186,
   "metadata": {},
   "outputs": [
    {
     "data": {
      "text/plain": [
       "array([0.58937298, 0.77382467, 0.87293939, 0.93366217, 0.96395389,\n",
       "       0.98855216, 0.9979496 , 0.99950602, 1.        ])"
      ]
     },
     "execution_count": 186,
     "metadata": {},
     "output_type": "execute_result"
    }
   ],
   "source": [
    "# looking at the cumulative sum of the xplained variance\n",
    "\n",
    "pca.explained_variance_ratio_.cumsum()"
   ]
  },
  {
   "cell_type": "markdown",
   "metadata": {},
   "source": [
    "### Scree plot"
   ]
  },
  {
   "cell_type": "code",
   "execution_count": 187,
   "metadata": {},
   "outputs": [
    {
     "data": {
      "image/png": "[encoded data removed]",
      "text/plain": [
       "<Figure size 576x432 with 1 Axes>"
      ]
     },
     "metadata": {
      "needs_background": "dark"
     },
     "output_type": "display_data"
    }
   ],
   "source": [
    "# Looking at the variance ratio of the pcs\n",
    "\n",
    "plt.figure(figsize=(8, 6))\n",
    "plt.plot([x for x in range(1, 10)], pca.explained_variance_ratio_.cumsum())\n",
    "plt.show()"
   ]
  },
  {
   "cell_type": "markdown",
   "metadata": {},
   "source": [
    "We can see from the scree plot that at 4 PCs the explained variance goes above 90%"
   ]
  },
  {
   "cell_type": "markdown",
   "metadata": {},
   "source": [
    "#### Transforming the dataset using PCA"
   ]
  },
  {
   "cell_type": "code",
   "execution_count": 188,
   "metadata": {},
   "outputs": [],
   "source": [
    "# Importing required libraries\n",
    "\n",
    "from sklearn.decomposition import IncrementalPCA"
   ]
  },
  {
   "cell_type": "code",
   "execution_count": 189,
   "metadata": {},
   "outputs": [],
   "source": [
    "# Using incremental PCA (4 components) and transforming the dataset\n",
    "\n",
    "ipca = IncrementalPCA(n_components=4, batch_size=20)\n",
    "pca_df = ipca.fit_transform(df_scaled)"
   ]
  },
  {
   "cell_type": "code",
   "execution_count": 190,
   "metadata": {},
   "outputs": [
    {
     "data": {
      "text/plain": [
       "array([[-2.63663479,  1.47122539, -0.5467446 ,  0.24782732],\n",
       "       [-0.02370308, -1.43518149, -0.00717987, -0.44187085],\n",
       "       [-0.45913787, -0.67805625,  0.97157274, -0.16052487],\n",
       "       [-2.72354539,  2.17593429,  0.59926147,  0.45540441],\n",
       "       [ 0.648754  , -1.02683433, -0.24437514, -0.26034376],\n",
       "       [ 0.03646458, -0.68355382,  1.46798025,  0.06692767],\n",
       "       [-0.33410035, -1.2779633 ,  0.192912  , -0.50671878],\n",
       "       [ 3.18446706, -0.2392749 , -0.16411152,  1.67144312],\n",
       "       [ 3.81848354,  0.26294836, -0.29100472,  0.97223633],\n",
       "       [-0.46776843, -0.49352333,  0.60345811, -0.28465062]])"
      ]
     },
     "execution_count": 190,
     "metadata": {},
     "output_type": "execute_result"
    }
   ],
   "source": [
    "pca_df[:10]"
   ]
  },
  {
   "cell_type": "code",
   "execution_count": 191,
   "metadata": {},
   "outputs": [
    {
     "data": {
      "text/html": [
       "<div>\n",
       "<style scoped>\n",
       "    .dataframe tbody tr th:only-of-type {\n",
       "        vertical-align: middle;\n",
       "    }\n",
       "\n",
       "    .dataframe tbody tr th {\n",
       "        vertical-align: top;\n",
       "    }\n",
       "\n",
       "    .dataframe thead th {\n",
       "        text-align: right;\n",
       "    }\n",
       "</style>\n",
       "<table border=\"1\" class=\"dataframe\">\n",
       "  <thead>\n",
       "    <tr style=\"text-align: right;\">\n",
       "      <th></th>\n",
       "      <th>PC1</th>\n",
       "      <th>PC2</th>\n",
       "      <th>PC3</th>\n",
       "      <th>PC4</th>\n",
       "    </tr>\n",
       "  </thead>\n",
       "  <tbody>\n",
       "    <tr>\n",
       "      <th>0</th>\n",
       "      <td>-2.636635</td>\n",
       "      <td>1.471225</td>\n",
       "      <td>-0.546745</td>\n",
       "      <td>0.247827</td>\n",
       "    </tr>\n",
       "    <tr>\n",
       "      <th>1</th>\n",
       "      <td>-0.023703</td>\n",
       "      <td>-1.435181</td>\n",
       "      <td>-0.007180</td>\n",
       "      <td>-0.441871</td>\n",
       "    </tr>\n",
       "    <tr>\n",
       "      <th>2</th>\n",
       "      <td>-0.459138</td>\n",
       "      <td>-0.678056</td>\n",
       "      <td>0.971573</td>\n",
       "      <td>-0.160525</td>\n",
       "    </tr>\n",
       "    <tr>\n",
       "      <th>3</th>\n",
       "      <td>-2.723545</td>\n",
       "      <td>2.175934</td>\n",
       "      <td>0.599261</td>\n",
       "      <td>0.455404</td>\n",
       "    </tr>\n",
       "    <tr>\n",
       "      <th>4</th>\n",
       "      <td>0.648754</td>\n",
       "      <td>-1.026834</td>\n",
       "      <td>-0.244375</td>\n",
       "      <td>-0.260344</td>\n",
       "    </tr>\n",
       "  </tbody>\n",
       "</table>\n",
       "</div>"
      ],
      "text/plain": [
       "        PC1       PC2       PC3       PC4\n",
       "0 -2.636635  1.471225 -0.546745  0.247827\n",
       "1 -0.023703 -1.435181 -0.007180 -0.441871\n",
       "2 -0.459138 -0.678056  0.971573 -0.160525\n",
       "3 -2.723545  2.175934  0.599261  0.455404\n",
       "4  0.648754 -1.026834 -0.244375 -0.260344"
      ]
     },
     "execution_count": 191,
     "metadata": {},
     "output_type": "execute_result"
    }
   ],
   "source": [
    "# Preparing a dataframe from the transformed dataset\n",
    "\n",
    "pca_dfm = pd.DataFrame(pca_df, columns=[\"PC1\", \"PC2\", \"PC3\", \"PC4\"])\n",
    "\n",
    "pca_dfm.head()"
   ]
  },
  {
   "cell_type": "code",
   "execution_count": 192,
   "metadata": {},
   "outputs": [
    {
     "data": {
      "text/plain": [
       "(167, 4)"
      ]
     },
     "execution_count": 192,
     "metadata": {},
     "output_type": "execute_result"
    }
   ],
   "source": [
    "pca_dfm.shape"
   ]
  },
  {
   "cell_type": "code",
   "execution_count": 193,
   "metadata": {},
   "outputs": [
    {
     "data": {
      "text/html": [
       "<div>\n",
       "<style scoped>\n",
       "    .dataframe tbody tr th:only-of-type {\n",
       "        vertical-align: middle;\n",
       "    }\n",
       "\n",
       "    .dataframe tbody tr th {\n",
       "        vertical-align: top;\n",
       "    }\n",
       "\n",
       "    .dataframe thead th {\n",
       "        text-align: right;\n",
       "    }\n",
       "</style>\n",
       "<table border=\"1\" class=\"dataframe\">\n",
       "  <thead>\n",
       "    <tr style=\"text-align: right;\">\n",
       "      <th></th>\n",
       "      <th>PC1</th>\n",
       "      <th>PC2</th>\n",
       "      <th>PC3</th>\n",
       "      <th>PC4</th>\n",
       "      <th>Country</th>\n",
       "    </tr>\n",
       "  </thead>\n",
       "  <tbody>\n",
       "    <tr>\n",
       "      <th>0</th>\n",
       "      <td>-2.636635</td>\n",
       "      <td>1.471225</td>\n",
       "      <td>-0.546745</td>\n",
       "      <td>0.247827</td>\n",
       "      <td>Afghanistan</td>\n",
       "    </tr>\n",
       "    <tr>\n",
       "      <th>1</th>\n",
       "      <td>-0.023703</td>\n",
       "      <td>-1.435181</td>\n",
       "      <td>-0.007180</td>\n",
       "      <td>-0.441871</td>\n",
       "      <td>Albania</td>\n",
       "    </tr>\n",
       "    <tr>\n",
       "      <th>2</th>\n",
       "      <td>-0.459138</td>\n",
       "      <td>-0.678056</td>\n",
       "      <td>0.971573</td>\n",
       "      <td>-0.160525</td>\n",
       "      <td>Algeria</td>\n",
       "    </tr>\n",
       "    <tr>\n",
       "      <th>3</th>\n",
       "      <td>-2.723545</td>\n",
       "      <td>2.175934</td>\n",
       "      <td>0.599261</td>\n",
       "      <td>0.455404</td>\n",
       "      <td>Angola</td>\n",
       "    </tr>\n",
       "    <tr>\n",
       "      <th>4</th>\n",
       "      <td>0.648754</td>\n",
       "      <td>-1.026834</td>\n",
       "      <td>-0.244375</td>\n",
       "      <td>-0.260344</td>\n",
       "      <td>Antigua and Barbuda</td>\n",
       "    </tr>\n",
       "  </tbody>\n",
       "</table>\n",
       "</div>"
      ],
      "text/plain": [
       "        PC1       PC2       PC3       PC4              Country\n",
       "0 -2.636635  1.471225 -0.546745  0.247827          Afghanistan\n",
       "1 -0.023703 -1.435181 -0.007180 -0.441871              Albania\n",
       "2 -0.459138 -0.678056  0.971573 -0.160525              Algeria\n",
       "3 -2.723545  2.175934  0.599261  0.455404               Angola\n",
       "4  0.648754 -1.026834 -0.244375 -0.260344  Antigua and Barbuda"
      ]
     },
     "execution_count": 193,
     "metadata": {},
     "output_type": "execute_result"
    }
   ],
   "source": [
    "# Adding the countries as a column to this dataframe\n",
    "\n",
    "pca_dfm[\"Country\"] = df[\"country\"]\n",
    "\n",
    "pca_dfm.head()"
   ]
  },
  {
   "cell_type": "code",
   "execution_count": 194,
   "metadata": {},
   "outputs": [
    {
     "data": {
      "text/html": [
       "<div>\n",
       "<style scoped>\n",
       "    .dataframe tbody tr th:only-of-type {\n",
       "        vertical-align: middle;\n",
       "    }\n",
       "\n",
       "    .dataframe tbody tr th {\n",
       "        vertical-align: top;\n",
       "    }\n",
       "\n",
       "    .dataframe thead th {\n",
       "        text-align: right;\n",
       "    }\n",
       "</style>\n",
       "<table border=\"1\" class=\"dataframe\">\n",
       "  <thead>\n",
       "    <tr style=\"text-align: right;\">\n",
       "      <th></th>\n",
       "      <th>Country</th>\n",
       "      <th>PC1</th>\n",
       "      <th>PC2</th>\n",
       "      <th>PC3</th>\n",
       "      <th>PC4</th>\n",
       "    </tr>\n",
       "  </thead>\n",
       "  <tbody>\n",
       "    <tr>\n",
       "      <th>0</th>\n",
       "      <td>Afghanistan</td>\n",
       "      <td>-2.636635</td>\n",
       "      <td>1.471225</td>\n",
       "      <td>-0.546745</td>\n",
       "      <td>0.247827</td>\n",
       "    </tr>\n",
       "    <tr>\n",
       "      <th>1</th>\n",
       "      <td>Albania</td>\n",
       "      <td>-0.023703</td>\n",
       "      <td>-1.435181</td>\n",
       "      <td>-0.007180</td>\n",
       "      <td>-0.441871</td>\n",
       "    </tr>\n",
       "    <tr>\n",
       "      <th>2</th>\n",
       "      <td>Algeria</td>\n",
       "      <td>-0.459138</td>\n",
       "      <td>-0.678056</td>\n",
       "      <td>0.971573</td>\n",
       "      <td>-0.160525</td>\n",
       "    </tr>\n",
       "    <tr>\n",
       "      <th>3</th>\n",
       "      <td>Angola</td>\n",
       "      <td>-2.723545</td>\n",
       "      <td>2.175934</td>\n",
       "      <td>0.599261</td>\n",
       "      <td>0.455404</td>\n",
       "    </tr>\n",
       "    <tr>\n",
       "      <th>4</th>\n",
       "      <td>Antigua and Barbuda</td>\n",
       "      <td>0.648754</td>\n",
       "      <td>-1.026834</td>\n",
       "      <td>-0.244375</td>\n",
       "      <td>-0.260344</td>\n",
       "    </tr>\n",
       "  </tbody>\n",
       "</table>\n",
       "</div>"
      ],
      "text/plain": [
       "               Country       PC1       PC2       PC3       PC4\n",
       "0          Afghanistan -2.636635  1.471225 -0.546745  0.247827\n",
       "1              Albania -0.023703 -1.435181 -0.007180 -0.441871\n",
       "2              Algeria -0.459138 -0.678056  0.971573 -0.160525\n",
       "3               Angola -2.723545  2.175934  0.599261  0.455404\n",
       "4  Antigua and Barbuda  0.648754 -1.026834 -0.244375 -0.260344"
      ]
     },
     "execution_count": 194,
     "metadata": {},
     "output_type": "execute_result"
    }
   ],
   "source": [
    "# Rearranging the columns of the df\n",
    "\n",
    "cols = [\"Country\", \"PC1\", \"PC2\", \"PC3\", \"PC4\"]\n",
    "\n",
    "pca_dfm = pca_dfm[cols]\n",
    "\n",
    "pca_dfm.head()"
   ]
  },
  {
   "cell_type": "markdown",
   "metadata": {},
   "source": [
    "Going ahead, KMeans clustering has to be used hence we will treat the outliers first"
   ]
  },
  {
   "cell_type": "code",
   "execution_count": 195,
   "metadata": {},
   "outputs": [
    {
     "data": {
      "text/html": [
       "<div>\n",
       "<style scoped>\n",
       "    .dataframe tbody tr th:only-of-type {\n",
       "        vertical-align: middle;\n",
       "    }\n",
       "\n",
       "    .dataframe tbody tr th {\n",
       "        vertical-align: top;\n",
       "    }\n",
       "\n",
       "    .dataframe thead th {\n",
       "        text-align: right;\n",
       "    }\n",
       "</style>\n",
       "<table border=\"1\" class=\"dataframe\">\n",
       "  <thead>\n",
       "    <tr style=\"text-align: right;\">\n",
       "      <th></th>\n",
       "      <th>PC1</th>\n",
       "      <th>PC2</th>\n",
       "      <th>PC3</th>\n",
       "      <th>PC4</th>\n",
       "    </tr>\n",
       "  </thead>\n",
       "  <tbody>\n",
       "    <tr>\n",
       "      <th>count</th>\n",
       "      <td>1.670000e+02</td>\n",
       "      <td>1.670000e+02</td>\n",
       "      <td>1.670000e+02</td>\n",
       "      <td>1.670000e+02</td>\n",
       "    </tr>\n",
       "    <tr>\n",
       "      <th>mean</th>\n",
       "      <td>-2.659217e-17</td>\n",
       "      <td>5.318434e-18</td>\n",
       "      <td>1.595530e-17</td>\n",
       "      <td>2.127373e-17</td>\n",
       "    </tr>\n",
       "    <tr>\n",
       "      <th>std</th>\n",
       "      <td>2.310042e+00</td>\n",
       "      <td>1.292234e+00</td>\n",
       "      <td>9.469984e-01</td>\n",
       "      <td>7.399854e-01</td>\n",
       "    </tr>\n",
       "    <tr>\n",
       "      <th>min</th>\n",
       "      <td>-3.939243e+00</td>\n",
       "      <td>-1.699971e+00</td>\n",
       "      <td>-1.824926e+00</td>\n",
       "      <td>-4.540317e+00</td>\n",
       "    </tr>\n",
       "    <tr>\n",
       "      <th>25%</th>\n",
       "      <td>-1.447517e+00</td>\n",
       "      <td>-9.808144e-01</td>\n",
       "      <td>-3.963362e-01</td>\n",
       "      <td>-3.521250e-01</td>\n",
       "    </tr>\n",
       "    <tr>\n",
       "      <th>50%</th>\n",
       "      <td>-3.572834e-01</td>\n",
       "      <td>-3.972908e-01</td>\n",
       "      <td>-1.808218e-01</td>\n",
       "      <td>-1.420279e-01</td>\n",
       "    </tr>\n",
       "    <tr>\n",
       "      <th>75%</th>\n",
       "      <td>8.499751e-01</td>\n",
       "      <td>6.784678e-01</td>\n",
       "      <td>2.671908e-01</td>\n",
       "      <td>2.238316e-01</td>\n",
       "    </tr>\n",
       "    <tr>\n",
       "      <th>max</th>\n",
       "      <td>1.263508e+01</td>\n",
       "      <td>8.225423e+00</td>\n",
       "      <td>7.883443e+00</td>\n",
       "      <td>3.186439e+00</td>\n",
       "    </tr>\n",
       "  </tbody>\n",
       "</table>\n",
       "</div>"
      ],
      "text/plain": [
       "                PC1           PC2           PC3           PC4\n",
       "count  1.670000e+02  1.670000e+02  1.670000e+02  1.670000e+02\n",
       "mean  -2.659217e-17  5.318434e-18  1.595530e-17  2.127373e-17\n",
       "std    2.310042e+00  1.292234e+00  9.469984e-01  7.399854e-01\n",
       "min   -3.939243e+00 -1.699971e+00 -1.824926e+00 -4.540317e+00\n",
       "25%   -1.447517e+00 -9.808144e-01 -3.963362e-01 -3.521250e-01\n",
       "50%   -3.572834e-01 -3.972908e-01 -1.808218e-01 -1.420279e-01\n",
       "75%    8.499751e-01  6.784678e-01  2.671908e-01  2.238316e-01\n",
       "max    1.263508e+01  8.225423e+00  7.883443e+00  3.186439e+00"
      ]
     },
     "execution_count": 195,
     "metadata": {},
     "output_type": "execute_result"
    }
   ],
   "source": [
    "pca_dfm.describe()"
   ]
  },
  {
   "cell_type": "markdown",
   "metadata": {},
   "source": [
    "#### Treating Outliers"
   ]
  },
  {
   "cell_type": "code",
   "execution_count": 196,
   "metadata": {},
   "outputs": [],
   "source": [
    "# finding the percentages of outliers per column in the dataset\n",
    "# based on z - score\n",
    "# considered an outlier if zscore < -3 or z_score > 3\n",
    "\n",
    "def get_outliers_percentage(df):\n",
    "    \n",
    "    numerics = [\"float64\", \"int64\"]\n",
    "    \n",
    "    num_df = df.select_dtypes(include=numerics)\n",
    "    \n",
    "    outliers_df = pd.DataFrame(columns=[\"Outliers\", \"Outlier_perc\"])\n",
    "    \n",
    "    for col in num_df.columns:\n",
    "        z_score = (df[col] - df[col].mean()) / df[col].std()\n",
    "        is_outlier = np.where((z_score > 3) | (z_score < -3), 1, 0)\n",
    "        perc = round((is_outlier.sum() / df.shape[0]) * 100, 2)\n",
    "        outliers_df.loc[col] = [is_outlier.sum(), perc]\n",
    "    \n",
    "    return outliers_df"
   ]
  },
  {
   "cell_type": "code",
   "execution_count": 197,
   "metadata": {},
   "outputs": [
    {
     "data": {
      "text/html": [
       "<div>\n",
       "<style scoped>\n",
       "    .dataframe tbody tr th:only-of-type {\n",
       "        vertical-align: middle;\n",
       "    }\n",
       "\n",
       "    .dataframe tbody tr th {\n",
       "        vertical-align: top;\n",
       "    }\n",
       "\n",
       "    .dataframe thead th {\n",
       "        text-align: right;\n",
       "    }\n",
       "</style>\n",
       "<table border=\"1\" class=\"dataframe\">\n",
       "  <thead>\n",
       "    <tr style=\"text-align: right;\">\n",
       "      <th></th>\n",
       "      <th>Outliers</th>\n",
       "      <th>Outlier_perc</th>\n",
       "    </tr>\n",
       "  </thead>\n",
       "  <tbody>\n",
       "    <tr>\n",
       "      <th>PC1</th>\n",
       "      <td>1.0</td>\n",
       "      <td>0.6</td>\n",
       "    </tr>\n",
       "    <tr>\n",
       "      <th>PC2</th>\n",
       "      <td>1.0</td>\n",
       "      <td>0.6</td>\n",
       "    </tr>\n",
       "    <tr>\n",
       "      <th>PC3</th>\n",
       "      <td>2.0</td>\n",
       "      <td>1.2</td>\n",
       "    </tr>\n",
       "    <tr>\n",
       "      <th>PC4</th>\n",
       "      <td>4.0</td>\n",
       "      <td>2.4</td>\n",
       "    </tr>\n",
       "  </tbody>\n",
       "</table>\n",
       "</div>"
      ],
      "text/plain": [
       "     Outliers  Outlier_perc\n",
       "PC1       1.0           0.6\n",
       "PC2       1.0           0.6\n",
       "PC3       2.0           1.2\n",
       "PC4       4.0           2.4"
      ]
     },
     "execution_count": 197,
     "metadata": {},
     "output_type": "execute_result"
    }
   ],
   "source": [
    "# outliers percentage\n",
    "\n",
    "get_outliers_percentage(pca_dfm)"
   ]
  },
  {
   "cell_type": "markdown",
   "metadata": {},
   "source": [
    "this indicates the presence of outliers, plotting the box plots for better analysis"
   ]
  },
  {
   "cell_type": "code",
   "execution_count": 198,
   "metadata": {},
   "outputs": [
    {
     "data": {
      "image/png": "[encoded data removed]",
      "text/plain": [
       "<Figure size 864x576 with 4 Axes>"
      ]
     },
     "metadata": {
      "needs_background": "dark"
     },
     "output_type": "display_data"
    }
   ],
   "source": [
    "# Plotting the box plots for each PC\n",
    "\n",
    "plt.figure(figsize=(12, 8))\n",
    "\n",
    "for idx, col in enumerate(pca_dfm.columns[1:]):\n",
    "    \n",
    "    plt.subplot(2, 2, idx + 1)\n",
    "    sns.boxplot(pca_dfm[col])\n",
    "\n",
    "plt.show()"
   ]
  },
  {
   "cell_type": "markdown",
   "metadata": {},
   "source": [
    "We will choose to cap the outliers between 5th and 95th percentile"
   ]
  },
  {
   "cell_type": "code",
   "execution_count": 199,
   "metadata": {},
   "outputs": [
    {
     "data": {
      "text/html": [
       "<div>\n",
       "<style scoped>\n",
       "    .dataframe tbody tr th:only-of-type {\n",
       "        vertical-align: middle;\n",
       "    }\n",
       "\n",
       "    .dataframe tbody tr th {\n",
       "        vertical-align: top;\n",
       "    }\n",
       "\n",
       "    .dataframe thead th {\n",
       "        text-align: right;\n",
       "    }\n",
       "</style>\n",
       "<table border=\"1\" class=\"dataframe\">\n",
       "  <thead>\n",
       "    <tr style=\"text-align: right;\">\n",
       "      <th></th>\n",
       "      <th>PC1</th>\n",
       "      <th>PC2</th>\n",
       "      <th>PC3</th>\n",
       "      <th>PC4</th>\n",
       "    </tr>\n",
       "  </thead>\n",
       "  <tbody>\n",
       "    <tr>\n",
       "      <th>count</th>\n",
       "      <td>167.000000</td>\n",
       "      <td>167.000000</td>\n",
       "      <td>167.000000</td>\n",
       "      <td>1.670000e+02</td>\n",
       "    </tr>\n",
       "    <tr>\n",
       "      <th>mean</th>\n",
       "      <td>-0.084591</td>\n",
       "      <td>-0.055463</td>\n",
       "      <td>-0.061793</td>\n",
       "      <td>2.127373e-17</td>\n",
       "    </tr>\n",
       "    <tr>\n",
       "      <th>std</th>\n",
       "      <td>1.923875</td>\n",
       "      <td>1.066326</td>\n",
       "      <td>0.602972</td>\n",
       "      <td>7.399854e-01</td>\n",
       "    </tr>\n",
       "    <tr>\n",
       "      <th>min</th>\n",
       "      <td>-2.760198</td>\n",
       "      <td>-1.352452</td>\n",
       "      <td>-1.120059</td>\n",
       "      <td>-4.540317e+00</td>\n",
       "    </tr>\n",
       "    <tr>\n",
       "      <th>25%</th>\n",
       "      <td>-1.447517</td>\n",
       "      <td>-0.980814</td>\n",
       "      <td>-0.396336</td>\n",
       "      <td>-3.521250e-01</td>\n",
       "    </tr>\n",
       "    <tr>\n",
       "      <th>50%</th>\n",
       "      <td>-0.357283</td>\n",
       "      <td>-0.397291</td>\n",
       "      <td>-0.180822</td>\n",
       "      <td>-1.420279e-01</td>\n",
       "    </tr>\n",
       "    <tr>\n",
       "      <th>75%</th>\n",
       "      <td>0.849975</td>\n",
       "      <td>0.678468</td>\n",
       "      <td>0.267191</td>\n",
       "      <td>2.238316e-01</td>\n",
       "    </tr>\n",
       "    <tr>\n",
       "      <th>max</th>\n",
       "      <td>3.918711</td>\n",
       "      <td>2.174962</td>\n",
       "      <td>1.184312</td>\n",
       "      <td>3.186439e+00</td>\n",
       "    </tr>\n",
       "  </tbody>\n",
       "</table>\n",
       "</div>"
      ],
      "text/plain": [
       "              PC1         PC2         PC3           PC4\n",
       "count  167.000000  167.000000  167.000000  1.670000e+02\n",
       "mean    -0.084591   -0.055463   -0.061793  2.127373e-17\n",
       "std      1.923875    1.066326    0.602972  7.399854e-01\n",
       "min     -2.760198   -1.352452   -1.120059 -4.540317e+00\n",
       "25%     -1.447517   -0.980814   -0.396336 -3.521250e-01\n",
       "50%     -0.357283   -0.397291   -0.180822 -1.420279e-01\n",
       "75%      0.849975    0.678468    0.267191  2.238316e-01\n",
       "max      3.918711    2.174962    1.184312  3.186439e+00"
      ]
     },
     "execution_count": 199,
     "metadata": {},
     "output_type": "execute_result"
    }
   ],
   "source": [
    "# Using the quantile method for obtaining the caps\n",
    "# PC4 will receive a different treatment\n",
    "\n",
    "for col in pca_dfm.columns[1:-1]:\n",
    "    \n",
    "    q5 = pca_dfm[col].quantile(0.05)\n",
    "    q95 = pca_dfm[col].quantile(0.95)\n",
    "    \n",
    "    pca_dfm.loc[pca_dfm[col] >= q95, col] = q95\n",
    "    pca_dfm.loc[pca_dfm[col] <= q5, col] = q5\n",
    "\n",
    "pca_dfm.describe()"
   ]
  },
  {
   "cell_type": "code",
   "execution_count": 200,
   "metadata": {},
   "outputs": [
    {
     "data": {
      "image/png": "[encoded data removed]",
      "text/plain": [
       "<Figure size 864x576 with 4 Axes>"
      ]
     },
     "metadata": {
      "needs_background": "dark"
     },
     "output_type": "display_data"
    }
   ],
   "source": [
    "# Plotting the box plots again\n",
    "\n",
    "plt.figure(figsize=(12, 8))\n",
    "\n",
    "for idx, col in enumerate(pca_dfm.columns[1:]):\n",
    "    \n",
    "    plt.subplot(2, 2, idx + 1)\n",
    "    sns.boxplot(pca_dfm[col])\n",
    "\n",
    "plt.show()"
   ]
  },
  {
   "cell_type": "markdown",
   "metadata": {},
   "source": [
    "PC4 wil have different outlier treatment"
   ]
  },
  {
   "cell_type": "code",
   "execution_count": 201,
   "metadata": {},
   "outputs": [
    {
     "data": {
      "text/plain": [
       "count    167.00\n",
       "mean       0.00\n",
       "std        0.74\n",
       "min       -4.54\n",
       "50%       -0.14\n",
       "60%       -0.01\n",
       "80%        0.29\n",
       "91%        0.79\n",
       "92%        0.96\n",
       "93%        0.98\n",
       "94%        1.06\n",
       "95%        1.15\n",
       "97%        1.52\n",
       "99%        2.02\n",
       "max        3.19\n",
       "Name: PC4, dtype: float64"
      ]
     },
     "execution_count": 201,
     "metadata": {},
     "output_type": "execute_result"
    }
   ],
   "source": [
    "# Looking at different quantiles of PC4\n",
    "\n",
    "np.round(pca_dfm[\"PC4\"].describe(percentiles=[0.5, 0.6, 0.8, 0.91, 0.92, 0.93, 0.94, 0.95, 0.97, 0.99]), 2)"
   ]
  },
  {
   "cell_type": "code",
   "execution_count": 202,
   "metadata": {},
   "outputs": [],
   "source": [
    "# Capping the outliers between 5th and 94th percentile\n",
    "\n",
    "q5 = pca_dfm[col].quantile(0.05)\n",
    "q94 = pca_dfm[col].quantile(0.94)\n",
    "\n",
    "pca_dfm.loc[pca_dfm[\"PC4\"] >= q94, \"PC4\"] = q94\n",
    "pca_dfm.loc[pca_dfm[\"PC4\"] <= q5, \"PC4\"] = q5"
   ]
  },
  {
   "cell_type": "code",
   "execution_count": 203,
   "metadata": {},
   "outputs": [
    {
     "data": {
      "image/png": "[encoded data removed]",
      "text/plain": [
       "<Figure size 432x288 with 1 Axes>"
      ]
     },
     "metadata": {
      "needs_background": "dark"
     },
     "output_type": "display_data"
    }
   ],
   "source": [
    "# Plotting the box plot for PC4\n",
    "\n",
    "sns.boxplot(pca_dfm[\"PC4\"])\n",
    "plt.show()"
   ]
  },
  {
   "cell_type": "markdown",
   "metadata": {},
   "source": [
    "the outliers are capped for PC4"
   ]
  },
  {
   "cell_type": "markdown",
   "metadata": {},
   "source": [
    "#### Modelling"
   ]
  },
  {
   "cell_type": "code",
   "execution_count": 204,
   "metadata": {},
   "outputs": [],
   "source": [
    "# Importing the necessary libraries\n",
    "\n",
    "from sklearn.metrics import silhouette_score\n",
    "from sklearn.cluster import KMeans"
   ]
  },
  {
   "cell_type": "code",
   "execution_count": 205,
   "metadata": {},
   "outputs": [
    {
     "data": {
      "text/plain": [
       "Index(['Country', 'PC1', 'PC2', 'PC3', 'PC4'], dtype='object')"
      ]
     },
     "execution_count": 205,
     "metadata": {},
     "output_type": "execute_result"
    }
   ],
   "source": [
    "pca_dfm.columns"
   ]
  },
  {
   "cell_type": "code",
   "execution_count": 206,
   "metadata": {},
   "outputs": [
    {
     "data": {
      "text/plain": [
       "KMeans(max_iter=50, n_clusters=4)"
      ]
     },
     "execution_count": 206,
     "metadata": {},
     "output_type": "execute_result"
    }
   ],
   "source": [
    "# Initializing the modeller\n",
    "# Kmeans with some arbitrary K\n",
    "\n",
    "kmeans = KMeans(n_clusters=4, max_iter=50)\n",
    "kmeans.fit(pca_dfm.drop(columns=[\"Country\"]))"
   ]
  },
  {
   "cell_type": "code",
   "execution_count": 207,
   "metadata": {},
   "outputs": [
    {
     "data": {
      "text/plain": [
       "array([2, 3, 1, 2, 3, 1, 1, 0, 0, 1, 3, 3, 1, 3, 1, 0, 1, 2, 1, 1, 3, 1,\n",
       "       3, 0, 3, 2, 2, 1, 2, 0, 1, 2, 2, 3, 1, 3, 2, 2, 2, 3, 2, 3, 3, 3,\n",
       "       0, 1, 1, 1, 1, 2, 2, 3, 1, 0, 0, 2, 2, 1, 0, 2, 3, 1, 1, 2, 2, 1,\n",
       "       2, 3, 0, 1, 1, 1, 1, 0, 3, 0, 1, 0, 1, 1, 2, 2, 0, 1, 2, 3, 3, 2,\n",
       "       2, 3, 3, 0, 3, 2, 2, 3, 3, 2, 0, 2, 3, 1, 1, 1, 3, 1, 2, 1, 2, 1,\n",
       "       0, 0, 2, 2, 0, 3, 2, 3, 1, 1, 1, 3, 3, 0, 3, 1, 2, 1, 3, 2, 3, 3,\n",
       "       2, 0, 3, 3, 1, 1, 3, 3, 1, 1, 2, 1, 0, 0, 1, 2, 3, 2, 2, 1, 1, 3,\n",
       "       1, 2, 1, 0, 0, 0, 3, 1, 1, 1, 1, 2, 2])"
      ]
     },
     "execution_count": 207,
     "metadata": {},
     "output_type": "execute_result"
    }
   ],
   "source": [
    "kmeans.labels_"
   ]
  },
  {
   "cell_type": "markdown",
   "metadata": {},
   "source": [
    "#### Finding the optimum no. of clusters"
   ]
  },
  {
   "cell_type": "code",
   "execution_count": 208,
   "metadata": {},
   "outputs": [
    {
     "data": {
      "image/png": "[encoded data removed]",
      "text/plain": [
       "<Figure size 432x288 with 1 Axes>"
      ]
     },
     "metadata": {
      "needs_background": "dark"
     },
     "output_type": "display_data"
    }
   ],
   "source": [
    "# Plotting the elbow curve\n",
    "\n",
    "nums = [2, 3, 4, 5, 6, 7, 8]\n",
    "\n",
    "SSD = []\n",
    "\n",
    "for i in nums:\n",
    "    kmeans = KMeans(n_clusters=i, max_iter=50)\n",
    "    kmeans.fit(pca_dfm.drop(columns=[\"Country\"]))\n",
    "    \n",
    "    SSD.append(kmeans.inertia_)\n",
    "\n",
    "plt.plot(SSD)\n",
    "plt.show()"
   ]
  },
  {
   "cell_type": "code",
   "execution_count": 209,
   "metadata": {},
   "outputs": [
    {
     "name": "stdout",
     "output_type": "stream",
     "text": [
      "for 2 number of clusters, the silhouette score is 0.47439043094751193\n",
      "for 3 number of clusters, the silhouette score is 0.506221658606045\n",
      "for 4 number of clusters, the silhouette score is 0.38660735883135683\n",
      "for 5 number of clusters, the silhouette score is 0.3870786212697952\n",
      "for 6 number of clusters, the silhouette score is 0.3321663612743802\n",
      "for 7 number of clusters, the silhouette score is 0.3756744295124238\n",
      "for 8 number of clusters, the silhouette score is 0.3689194846903202\n"
     ]
    }
   ],
   "source": [
    "# Calculating the silhouette scores for each number of clusters\n",
    "\n",
    "for i in nums:\n",
    "    kmeans = KMeans(n_clusters=i, max_iter=50)\n",
    "    kmeans.fit(pca_dfm.drop(columns=[\"Country\"]))\n",
    "    \n",
    "    cluster_labels = kmeans.labels_\n",
    "    \n",
    "    sil_avg = silhouette_score(pca_dfm.drop(columns=[\"Country\"]), cluster_labels)\n",
    "    \n",
    "    print(\"for {0} number of clusters, the silhouette score is {1}\".format(i, sil_avg))\n",
    "    "
   ]
  },
  {
   "cell_type": "markdown",
   "metadata": {},
   "source": [
    "As we can see here that the silhouette scores for 3 clusters is 0.5. Now, I will try to apply PCA with 3 components (87 % variance)"
   ]
  },
  {
   "cell_type": "code",
   "execution_count": 210,
   "metadata": {},
   "outputs": [],
   "source": [
    "pca_dfm1 = pca_dfm.drop(columns=[\"Country\", \"PC4\"])"
   ]
  },
  {
   "cell_type": "code",
   "execution_count": 211,
   "metadata": {},
   "outputs": [
    {
     "name": "stdout",
     "output_type": "stream",
     "text": [
      "for 2 number of clusters, the silhouette score is 0.42950709031741213\n",
      "for 3 number of clusters, the silhouette score is 0.5116939079504812\n",
      "for 4 number of clusters, the silhouette score is 0.39725930794434505\n",
      "for 5 number of clusters, the silhouette score is 0.40147144568856763\n",
      "for 6 number of clusters, the silhouette score is 0.39884090014650236\n",
      "for 7 number of clusters, the silhouette score is 0.38615464487205253\n",
      "for 8 number of clusters, the silhouette score is 0.3788933744510076\n"
     ]
    }
   ],
   "source": [
    "# Calculating the silhouette scores for each number of clusters\n",
    "\n",
    "for i in nums:\n",
    "    kmeans = KMeans(n_clusters=i, max_iter=50)\n",
    "    kmeans.fit(pca_dfm1)\n",
    "    \n",
    "    cluster_labels = kmeans.labels_\n",
    "    \n",
    "    sil_avg = silhouette_score(pca_dfm1, cluster_labels)\n",
    "    \n",
    "    print(\"for {0} number of clusters, the silhouette score is {1}\".format(i, sil_avg))"
   ]
  },
  {
   "cell_type": "markdown",
   "metadata": {},
   "source": [
    "#### Considering 3 clusters and visualizing the data"
   ]
  },
  {
   "cell_type": "code",
   "execution_count": 212,
   "metadata": {},
   "outputs": [
    {
     "data": {
      "text/plain": [
       "KMeans(max_iter=50, n_clusters=3)"
      ]
     },
     "execution_count": 212,
     "metadata": {},
     "output_type": "execute_result"
    }
   ],
   "source": [
    "# Fitting Kmeans model with 3 cluster\n",
    "\n",
    "kmeans3 = KMeans(n_clusters=3, max_iter=50)\n",
    "kmeans3.fit(pca_dfm1)"
   ]
  },
  {
   "cell_type": "code",
   "execution_count": 213,
   "metadata": {},
   "outputs": [],
   "source": [
    "# Adding the labels column\n",
    "\n",
    "pca_dfm1[\"Kmeans_labels_3\"] = kmeans3.labels_"
   ]
  },
  {
   "cell_type": "code",
   "execution_count": 214,
   "metadata": {},
   "outputs": [
    {
     "data": {
      "image/png": "[encoded data removed]",
      "text/plain": [
       "<Figure size 576x432 with 1 Axes>"
      ]
     },
     "metadata": {
      "needs_background": "dark"
     },
     "output_type": "display_data"
    }
   ],
   "source": [
    "# Plotting the scatter plot for visualizing the clusters\n",
    "# gdpp, child_mort and income\n",
    "\n",
    "plt.figure(figsize=(8, 6))\n",
    "sns.scatterplot(x=pca_dfm1.PC1, y=pca_dfm1.PC2, hue=pca_dfm1.Kmeans_labels_3)\n",
    "plt.show()"
   ]
  },
  {
   "cell_type": "code",
   "execution_count": 215,
   "metadata": {},
   "outputs": [
    {
     "data": {
      "image/png": "[encoded data removed]",
      "text/plain": [
       "<Figure size 576x432 with 1 Axes>"
      ]
     },
     "metadata": {
      "needs_background": "dark"
     },
     "output_type": "display_data"
    }
   ],
   "source": [
    "# Visualizing using a different set of components\n",
    "\n",
    "plt.figure(figsize=(8, 6))\n",
    "sns.scatterplot(x=pca_dfm1.PC1, y=pca_dfm1.PC3, hue=pca_dfm1.Kmeans_labels_3)\n",
    "plt.show()"
   ]
  },
  {
   "cell_type": "code",
   "execution_count": 216,
   "metadata": {},
   "outputs": [
    {
     "data": {
      "image/png": "[encoded data removed]",
      "text/plain": [
       "<Figure size 576x432 with 1 Axes>"
      ]
     },
     "metadata": {
      "needs_background": "dark"
     },
     "output_type": "display_data"
    }
   ],
   "source": [
    "# Visualizing using a different set of components\n",
    "\n",
    "plt.figure(figsize=(8, 6))\n",
    "sns.scatterplot(x=pca_dfm1.PC2, y=pca_dfm1.PC3, hue=pca_dfm1.Kmeans_labels_3)\n",
    "plt.show()"
   ]
  },
  {
   "cell_type": "code",
   "execution_count": 217,
   "metadata": {},
   "outputs": [],
   "source": [
    "# Adding the country column to the current df\n",
    "\n",
    "pca_dfm1[\"country\"] = pca_dfm[\"Country\"]\n",
    "\n",
    "new_cols = ['country', 'PC1', 'PC2', 'PC3', 'Kmeans_labels_3']\n",
    "\n",
    "\n",
    "pca_dfm1 = pca_dfm1[new_cols]"
   ]
  },
  {
   "cell_type": "code",
   "execution_count": 218,
   "metadata": {},
   "outputs": [
    {
     "data": {
      "text/html": [
       "<div>\n",
       "<style scoped>\n",
       "    .dataframe tbody tr th:only-of-type {\n",
       "        vertical-align: middle;\n",
       "    }\n",
       "\n",
       "    .dataframe tbody tr th {\n",
       "        vertical-align: top;\n",
       "    }\n",
       "\n",
       "    .dataframe thead th {\n",
       "        text-align: right;\n",
       "    }\n",
       "</style>\n",
       "<table border=\"1\" class=\"dataframe\">\n",
       "  <thead>\n",
       "    <tr style=\"text-align: right;\">\n",
       "      <th></th>\n",
       "      <th>country</th>\n",
       "      <th>PC1</th>\n",
       "      <th>PC2</th>\n",
       "      <th>PC3</th>\n",
       "      <th>Kmeans_labels_3</th>\n",
       "    </tr>\n",
       "  </thead>\n",
       "  <tbody>\n",
       "    <tr>\n",
       "      <th>0</th>\n",
       "      <td>Afghanistan</td>\n",
       "      <td>-2.636635</td>\n",
       "      <td>1.471225</td>\n",
       "      <td>-0.546745</td>\n",
       "      <td>0</td>\n",
       "    </tr>\n",
       "    <tr>\n",
       "      <th>1</th>\n",
       "      <td>Albania</td>\n",
       "      <td>-0.023703</td>\n",
       "      <td>-1.352452</td>\n",
       "      <td>-0.007180</td>\n",
       "      <td>2</td>\n",
       "    </tr>\n",
       "    <tr>\n",
       "      <th>2</th>\n",
       "      <td>Algeria</td>\n",
       "      <td>-0.459138</td>\n",
       "      <td>-0.678056</td>\n",
       "      <td>0.971573</td>\n",
       "      <td>2</td>\n",
       "    </tr>\n",
       "    <tr>\n",
       "      <th>3</th>\n",
       "      <td>Angola</td>\n",
       "      <td>-2.723545</td>\n",
       "      <td>2.174962</td>\n",
       "      <td>0.599261</td>\n",
       "      <td>0</td>\n",
       "    </tr>\n",
       "    <tr>\n",
       "      <th>4</th>\n",
       "      <td>Antigua and Barbuda</td>\n",
       "      <td>0.648754</td>\n",
       "      <td>-1.026834</td>\n",
       "      <td>-0.244375</td>\n",
       "      <td>2</td>\n",
       "    </tr>\n",
       "  </tbody>\n",
       "</table>\n",
       "</div>"
      ],
      "text/plain": [
       "               country       PC1       PC2       PC3  Kmeans_labels_3\n",
       "0          Afghanistan -2.636635  1.471225 -0.546745                0\n",
       "1              Albania -0.023703 -1.352452 -0.007180                2\n",
       "2              Algeria -0.459138 -0.678056  0.971573                2\n",
       "3               Angola -2.723545  2.174962  0.599261                0\n",
       "4  Antigua and Barbuda  0.648754 -1.026834 -0.244375                2"
      ]
     },
     "execution_count": 218,
     "metadata": {},
     "output_type": "execute_result"
    }
   ],
   "source": [
    "pca_dfm1.head()"
   ]
  },
  {
   "cell_type": "code",
   "execution_count": 220,
   "metadata": {},
   "outputs": [
    {
     "data": {
      "text/html": [
       "<div>\n",
       "<style scoped>\n",
       "    .dataframe tbody tr th:only-of-type {\n",
       "        vertical-align: middle;\n",
       "    }\n",
       "\n",
       "    .dataframe tbody tr th {\n",
       "        vertical-align: top;\n",
       "    }\n",
       "\n",
       "    .dataframe thead th {\n",
       "        text-align: right;\n",
       "    }\n",
       "</style>\n",
       "<table border=\"1\" class=\"dataframe\">\n",
       "  <thead>\n",
       "    <tr style=\"text-align: right;\">\n",
       "      <th></th>\n",
       "      <th>country</th>\n",
       "      <th>child_mort</th>\n",
       "      <th>exports</th>\n",
       "      <th>health</th>\n",
       "      <th>imports</th>\n",
       "      <th>income</th>\n",
       "      <th>inflation</th>\n",
       "      <th>life_expec</th>\n",
       "      <th>total_fer</th>\n",
       "      <th>gdpp</th>\n",
       "      <th>PC1</th>\n",
       "      <th>PC2</th>\n",
       "      <th>PC3</th>\n",
       "      <th>Kmeans_labels_3</th>\n",
       "    </tr>\n",
       "  </thead>\n",
       "  <tbody>\n",
       "    <tr>\n",
       "      <th>0</th>\n",
       "      <td>Afghanistan</td>\n",
       "      <td>90.2</td>\n",
       "      <td>55.30</td>\n",
       "      <td>41.9174</td>\n",
       "      <td>248.297</td>\n",
       "      <td>1610</td>\n",
       "      <td>9.44</td>\n",
       "      <td>56.2</td>\n",
       "      <td>5.82</td>\n",
       "      <td>553</td>\n",
       "      <td>-2.636635</td>\n",
       "      <td>1.471225</td>\n",
       "      <td>-0.546745</td>\n",
       "      <td>0</td>\n",
       "    </tr>\n",
       "    <tr>\n",
       "      <th>1</th>\n",
       "      <td>Albania</td>\n",
       "      <td>16.6</td>\n",
       "      <td>1145.20</td>\n",
       "      <td>267.8950</td>\n",
       "      <td>1987.740</td>\n",
       "      <td>9930</td>\n",
       "      <td>4.49</td>\n",
       "      <td>76.3</td>\n",
       "      <td>1.65</td>\n",
       "      <td>4090</td>\n",
       "      <td>-0.023703</td>\n",
       "      <td>-1.352452</td>\n",
       "      <td>-0.007180</td>\n",
       "      <td>2</td>\n",
       "    </tr>\n",
       "    <tr>\n",
       "      <th>2</th>\n",
       "      <td>Algeria</td>\n",
       "      <td>27.3</td>\n",
       "      <td>1712.64</td>\n",
       "      <td>185.9820</td>\n",
       "      <td>1400.440</td>\n",
       "      <td>12900</td>\n",
       "      <td>16.10</td>\n",
       "      <td>76.5</td>\n",
       "      <td>2.89</td>\n",
       "      <td>4460</td>\n",
       "      <td>-0.459138</td>\n",
       "      <td>-0.678056</td>\n",
       "      <td>0.971573</td>\n",
       "      <td>2</td>\n",
       "    </tr>\n",
       "    <tr>\n",
       "      <th>3</th>\n",
       "      <td>Angola</td>\n",
       "      <td>119.0</td>\n",
       "      <td>2199.19</td>\n",
       "      <td>100.6050</td>\n",
       "      <td>1514.370</td>\n",
       "      <td>5900</td>\n",
       "      <td>22.40</td>\n",
       "      <td>60.1</td>\n",
       "      <td>6.16</td>\n",
       "      <td>3530</td>\n",
       "      <td>-2.723545</td>\n",
       "      <td>2.174962</td>\n",
       "      <td>0.599261</td>\n",
       "      <td>0</td>\n",
       "    </tr>\n",
       "    <tr>\n",
       "      <th>4</th>\n",
       "      <td>Antigua and Barbuda</td>\n",
       "      <td>10.3</td>\n",
       "      <td>5551.00</td>\n",
       "      <td>735.6600</td>\n",
       "      <td>7185.800</td>\n",
       "      <td>19100</td>\n",
       "      <td>1.44</td>\n",
       "      <td>76.8</td>\n",
       "      <td>2.13</td>\n",
       "      <td>12200</td>\n",
       "      <td>0.648754</td>\n",
       "      <td>-1.026834</td>\n",
       "      <td>-0.244375</td>\n",
       "      <td>2</td>\n",
       "    </tr>\n",
       "  </tbody>\n",
       "</table>\n",
       "</div>"
      ],
      "text/plain": [
       "               country  child_mort  exports    health   imports  income  \\\n",
       "0          Afghanistan        90.2    55.30   41.9174   248.297    1610   \n",
       "1              Albania        16.6  1145.20  267.8950  1987.740    9930   \n",
       "2              Algeria        27.3  1712.64  185.9820  1400.440   12900   \n",
       "3               Angola       119.0  2199.19  100.6050  1514.370    5900   \n",
       "4  Antigua and Barbuda        10.3  5551.00  735.6600  7185.800   19100   \n",
       "\n",
       "   inflation  life_expec  total_fer   gdpp       PC1       PC2       PC3  \\\n",
       "0       9.44        56.2       5.82    553 -2.636635  1.471225 -0.546745   \n",
       "1       4.49        76.3       1.65   4090 -0.023703 -1.352452 -0.007180   \n",
       "2      16.10        76.5       2.89   4460 -0.459138 -0.678056  0.971573   \n",
       "3      22.40        60.1       6.16   3530 -2.723545  2.174962  0.599261   \n",
       "4       1.44        76.8       2.13  12200  0.648754 -1.026834 -0.244375   \n",
       "\n",
       "   Kmeans_labels_3  \n",
       "0                0  \n",
       "1                2  \n",
       "2                2  \n",
       "3                0  \n",
       "4                2  "
      ]
     },
     "execution_count": 220,
     "metadata": {},
     "output_type": "execute_result"
    }
   ],
   "source": [
    "# Merging and Aggregating the df on cluster labels\n",
    "\n",
    "merged_df = pd.merge(df, pca_dfm1, on=\"country\")\n",
    "\n",
    "merged_df.head()"
   ]
  },
  {
   "cell_type": "code",
   "execution_count": 221,
   "metadata": {},
   "outputs": [],
   "source": [
    "merged_df.drop(columns=['PC1', 'PC2', 'PC3'], inplace=True)"
   ]
  },
  {
   "cell_type": "code",
   "execution_count": 222,
   "metadata": {},
   "outputs": [
    {
     "data": {
      "text/html": [
       "<div>\n",
       "<style scoped>\n",
       "    .dataframe tbody tr th:only-of-type {\n",
       "        vertical-align: middle;\n",
       "    }\n",
       "\n",
       "    .dataframe tbody tr th {\n",
       "        vertical-align: top;\n",
       "    }\n",
       "\n",
       "    .dataframe thead th {\n",
       "        text-align: right;\n",
       "    }\n",
       "</style>\n",
       "<table border=\"1\" class=\"dataframe\">\n",
       "  <thead>\n",
       "    <tr style=\"text-align: right;\">\n",
       "      <th></th>\n",
       "      <th>Cluster_ID</th>\n",
       "      <th>child_mort</th>\n",
       "      <th>exports</th>\n",
       "      <th>health</th>\n",
       "      <th>imports</th>\n",
       "      <th>income</th>\n",
       "      <th>inflation</th>\n",
       "      <th>life_expec</th>\n",
       "      <th>total_fer</th>\n",
       "      <th>gdpp</th>\n",
       "    </tr>\n",
       "  </thead>\n",
       "  <tbody>\n",
       "    <tr>\n",
       "      <th>0</th>\n",
       "      <td>0</td>\n",
       "      <td>91.610417</td>\n",
       "      <td>879.063521</td>\n",
       "      <td>114.821765</td>\n",
       "      <td>827.028771</td>\n",
       "      <td>3897.354167</td>\n",
       "      <td>11.911146</td>\n",
       "      <td>59.239583</td>\n",
       "      <td>4.992083</td>\n",
       "      <td>1909.208333</td>\n",
       "    </tr>\n",
       "    <tr>\n",
       "      <th>1</th>\n",
       "      <td>1</td>\n",
       "      <td>5.188889</td>\n",
       "      <td>26546.422222</td>\n",
       "      <td>3813.131944</td>\n",
       "      <td>22494.522222</td>\n",
       "      <td>45608.333333</td>\n",
       "      <td>2.646861</td>\n",
       "      <td>80.080556</td>\n",
       "      <td>1.764722</td>\n",
       "      <td>42811.111111</td>\n",
       "    </tr>\n",
       "    <tr>\n",
       "      <th>2</th>\n",
       "      <td>2</td>\n",
       "      <td>21.771084</td>\n",
       "      <td>2908.157813</td>\n",
       "      <td>405.906631</td>\n",
       "      <td>3021.140013</td>\n",
       "      <td>12460.120482</td>\n",
       "      <td>7.621012</td>\n",
       "      <td>72.968675</td>\n",
       "      <td>2.279036</td>\n",
       "      <td>6411.710843</td>\n",
       "    </tr>\n",
       "  </tbody>\n",
       "</table>\n",
       "</div>"
      ],
      "text/plain": [
       "   Cluster_ID  child_mort       exports       health       imports  \\\n",
       "0           0   91.610417    879.063521   114.821765    827.028771   \n",
       "1           1    5.188889  26546.422222  3813.131944  22494.522222   \n",
       "2           2   21.771084   2908.157813   405.906631   3021.140013   \n",
       "\n",
       "         income  inflation  life_expec  total_fer          gdpp  \n",
       "0   3897.354167  11.911146   59.239583   4.992083   1909.208333  \n",
       "1  45608.333333   2.646861   80.080556   1.764722  42811.111111  \n",
       "2  12460.120482   7.621012   72.968675   2.279036   6411.710843  "
      ]
     },
     "execution_count": 222,
     "metadata": {},
     "output_type": "execute_result"
    }
   ],
   "source": [
    "# Aggregating with respect to clusters\n",
    "\n",
    "agg_chld = pd.DataFrame(merged_df.groupby([\"Kmeans_labels_3\"]).child_mort.mean())\n",
    "agg_exp = pd.DataFrame(merged_df.groupby([\"Kmeans_labels_3\"]).exports.mean())\n",
    "agg_hlt = pd.DataFrame(merged_df.groupby([\"Kmeans_labels_3\"]).health.mean())\n",
    "agg_imp = pd.DataFrame(merged_df.groupby([\"Kmeans_labels_3\"]).imports.mean())\n",
    "agg_inc = pd.DataFrame(merged_df.groupby([\"Kmeans_labels_3\"]).income.mean())\n",
    "agg_inf = pd.DataFrame(merged_df.groupby([\"Kmeans_labels_3\"]).inflation.mean())\n",
    "agg_life = pd.DataFrame(merged_df.groupby([\"Kmeans_labels_3\"]).life_expec.mean())\n",
    "agg_fer = pd.DataFrame(merged_df.groupby([\"Kmeans_labels_3\"]).total_fer.mean())\n",
    "agg_gdpp = pd.DataFrame(merged_df.groupby([\"Kmeans_labels_3\"]).gdpp.mean())\n",
    "\n",
    "\n",
    "final_df = pd.concat([pd.Series([0, 1, 2]), agg_chld, agg_exp, agg_hlt, agg_imp, agg_inc, agg_inf, agg_life, agg_fer, agg_gdpp], axis=1)\n",
    "\n",
    "final_df.columns = [\"Cluster_ID\", \"child_mort\", \"exports\", \"health\", \"imports\", \"income\", \"inflation\", \"life_expec\", \"total_fer\", \"gdpp\"]\n",
    "\n",
    "final_df.head()"
   ]
  },
  {
   "cell_type": "code",
   "execution_count": null,
   "metadata": {},
   "outputs": [],
   "source": []
  }
 ],
 "metadata": {
  "kernelspec": {
   "display_name": "Python 3",
   "language": "python",
   "name": "python3"
  },
  "language_info": {
   "codemirror_mode": {
    "name": "ipython",
    "version": 3
   },
   "file_extension": ".py",
   "mimetype": "text/x-python",
   "name": "python",
   "nbconvert_exporter": "python",
   "pygments_lexer": "ipython3",
   "version": "3.6.8"
  }
 },
 "nbformat": 4,
 "nbformat_minor": 4
}
